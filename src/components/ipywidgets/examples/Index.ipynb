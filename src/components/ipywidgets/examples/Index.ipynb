{
 "cells": [
  {
   "cell_type": "markdown",
   "metadata": {},
   "source": [
    "Back to the main [Index](../Index.ipynb)"
   ]
  },
  {
   "cell_type": "markdown",
   "metadata": {},
   "source": [
    "# Interactive Widgets"
   ]
  },
  {
   "cell_type": "markdown",
   "metadata": {},
   "source": [
    "IPython includes an architecture for interactive widgets that tie together Python code running in the kernel and JavaScript/HTML/CSS  running in the browser. These widgets enable users to explore their code and data interactively."
   ]
  },
  {
   "cell_type": "markdown",
   "metadata": {},
   "source": [
    "## Tutorials"
   ]
  },
  {
   "cell_type": "markdown",
   "metadata": {},
   "source": [
    "- [Using Interact](Using Interact.ipynb)\n",
    "- [Widget Basics](Widget Basics.ipynb)  \n",
    "- [Widget Events](Widget Events.ipynb)  \n",
    "- [Widget List](Widget List.ipynb)  \n",
    "- [Widget Styling](Widget Styling.ipynb)    \n",
    "- [Custom Widget](Custom Widget - Hello World.ipynb)"
   ]
  },
  {
   "cell_type": "markdown",
   "metadata": {},
   "source": [
    "## Examples of custom widgets"
   ]
  },
  {
   "cell_type": "markdown",
   "metadata": {},
   "source": [
    "- [Variable Inspector](Variable Inspector.ipynb)  \n",
    "- [Export As (nbconvert)](Export As (nbconvert%29.ipynb)  \n",
    "- [Nonblocking Console](Nonblocking Console.ipynb)  \n",
    "- [File Upload Widget](File Upload Widget.ipynb)"
   ]
  },
  {
   "cell_type": "markdown",
   "metadata": {},
   "source": [
    "## Examples using `interact`/`interactive`"
   ]
  },
  {
   "cell_type": "markdown",
   "metadata": {},
   "source": [
    "* [Beat Frequencies](Beat Frequencies.ipynb)\n",
    "* [Exploring Graphs](Exploring Graphs.ipynb)\n",
    "* [Factoring](Factoring.ipynb)\n",
    "* [Image Browser](Image Browser.ipynb)\n",
    "* [Image Processing](Image Processing.ipynb)\n",
    "* [Lorenz Differential Equations](Lorenz Differential Equations.ipynb)"
   ]
  }
 ],
 "metadata": {
  "kernelspec": {
   "display_name": "Python 3",
   "language": "python",
   "name": "python3"
  },
  "language_info": {
   "codemirror_mode": {
    "name": "ipython",
    "version": 3
   },
   "file_extension": ".py",
   "mimetype": "text/x-python",
   "name": "python",
   "nbconvert_exporter": "python",
   "pygments_lexer": "ipython3",
   "version": "3.4.3"
  }
 },
 "nbformat": 4,
 "nbformat_minor": 0
}
